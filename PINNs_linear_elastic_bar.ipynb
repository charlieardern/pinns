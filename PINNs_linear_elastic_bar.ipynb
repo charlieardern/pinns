{
  "nbformat": 4,
  "nbformat_minor": 0,
  "metadata": {
    "colab": {
      "provenance": []
    },
    "kernelspec": {
      "name": "python3",
      "display_name": "Python 3"
    },
    "language_info": {
      "name": "python"
    },
    "widgets": {
      "application/vnd.jupyter.widget-state+json": {
        "aae3b1a0f1274fd6ae236eee33e48e48": {
          "model_module": "@jupyter-widgets/controls",
          "model_name": "HBoxModel",
          "model_module_version": "1.5.0",
          "state": {
            "_dom_classes": [],
            "_model_module": "@jupyter-widgets/controls",
            "_model_module_version": "1.5.0",
            "_model_name": "HBoxModel",
            "_view_count": null,
            "_view_module": "@jupyter-widgets/controls",
            "_view_module_version": "1.5.0",
            "_view_name": "HBoxView",
            "box_style": "",
            "children": [
              "IPY_MODEL_a2ced7d7d69b4b2fb88fbce1f8df2f5d",
              "IPY_MODEL_91b98797027b453f8a071adf0c744934",
              "IPY_MODEL_69ae11e14e274496ae8a6aef3864d0cf"
            ],
            "layout": "IPY_MODEL_0a6b1d5613884de49079dc090e4cec5f"
          }
        },
        "a2ced7d7d69b4b2fb88fbce1f8df2f5d": {
          "model_module": "@jupyter-widgets/controls",
          "model_name": "HTMLModel",
          "model_module_version": "1.5.0",
          "state": {
            "_dom_classes": [],
            "_model_module": "@jupyter-widgets/controls",
            "_model_module_version": "1.5.0",
            "_model_name": "HTMLModel",
            "_view_count": null,
            "_view_module": "@jupyter-widgets/controls",
            "_view_module_version": "1.5.0",
            "_view_name": "HTMLView",
            "description": "",
            "description_tooltip": null,
            "layout": "IPY_MODEL_5d6ab6bd30844ebfaaf700ae41047fa4",
            "placeholder": "​",
            "style": "IPY_MODEL_5810e2b2a9a5466da917a8ed8c3ba8d6",
            "value": "100%"
          }
        },
        "91b98797027b453f8a071adf0c744934": {
          "model_module": "@jupyter-widgets/controls",
          "model_name": "FloatProgressModel",
          "model_module_version": "1.5.0",
          "state": {
            "_dom_classes": [],
            "_model_module": "@jupyter-widgets/controls",
            "_model_module_version": "1.5.0",
            "_model_name": "FloatProgressModel",
            "_view_count": null,
            "_view_module": "@jupyter-widgets/controls",
            "_view_module_version": "1.5.0",
            "_view_name": "ProgressView",
            "bar_style": "success",
            "description": "",
            "description_tooltip": null,
            "layout": "IPY_MODEL_858e85befd3641d2a696bef767bf5da6",
            "max": 40,
            "min": 0,
            "orientation": "horizontal",
            "style": "IPY_MODEL_6fd55caff95748cead03ef76ea6fc73f",
            "value": 40
          }
        },
        "69ae11e14e274496ae8a6aef3864d0cf": {
          "model_module": "@jupyter-widgets/controls",
          "model_name": "HTMLModel",
          "model_module_version": "1.5.0",
          "state": {
            "_dom_classes": [],
            "_model_module": "@jupyter-widgets/controls",
            "_model_module_version": "1.5.0",
            "_model_name": "HTMLModel",
            "_view_count": null,
            "_view_module": "@jupyter-widgets/controls",
            "_view_module_version": "1.5.0",
            "_view_name": "HTMLView",
            "description": "",
            "description_tooltip": null,
            "layout": "IPY_MODEL_b8685988411042249374507d444da96a",
            "placeholder": "​",
            "style": "IPY_MODEL_e57f0095abc049e4b7f3053abd28eb07",
            "value": " 40/40 [00:03&lt;00:00, 20.65it/s]"
          }
        },
        "0a6b1d5613884de49079dc090e4cec5f": {
          "model_module": "@jupyter-widgets/base",
          "model_name": "LayoutModel",
          "model_module_version": "1.2.0",
          "state": {
            "_model_module": "@jupyter-widgets/base",
            "_model_module_version": "1.2.0",
            "_model_name": "LayoutModel",
            "_view_count": null,
            "_view_module": "@jupyter-widgets/base",
            "_view_module_version": "1.2.0",
            "_view_name": "LayoutView",
            "align_content": null,
            "align_items": null,
            "align_self": null,
            "border": null,
            "bottom": null,
            "display": null,
            "flex": null,
            "flex_flow": null,
            "grid_area": null,
            "grid_auto_columns": null,
            "grid_auto_flow": null,
            "grid_auto_rows": null,
            "grid_column": null,
            "grid_gap": null,
            "grid_row": null,
            "grid_template_areas": null,
            "grid_template_columns": null,
            "grid_template_rows": null,
            "height": null,
            "justify_content": null,
            "justify_items": null,
            "left": null,
            "margin": null,
            "max_height": null,
            "max_width": null,
            "min_height": null,
            "min_width": null,
            "object_fit": null,
            "object_position": null,
            "order": null,
            "overflow": null,
            "overflow_x": null,
            "overflow_y": null,
            "padding": null,
            "right": null,
            "top": null,
            "visibility": null,
            "width": null
          }
        },
        "5d6ab6bd30844ebfaaf700ae41047fa4": {
          "model_module": "@jupyter-widgets/base",
          "model_name": "LayoutModel",
          "model_module_version": "1.2.0",
          "state": {
            "_model_module": "@jupyter-widgets/base",
            "_model_module_version": "1.2.0",
            "_model_name": "LayoutModel",
            "_view_count": null,
            "_view_module": "@jupyter-widgets/base",
            "_view_module_version": "1.2.0",
            "_view_name": "LayoutView",
            "align_content": null,
            "align_items": null,
            "align_self": null,
            "border": null,
            "bottom": null,
            "display": null,
            "flex": null,
            "flex_flow": null,
            "grid_area": null,
            "grid_auto_columns": null,
            "grid_auto_flow": null,
            "grid_auto_rows": null,
            "grid_column": null,
            "grid_gap": null,
            "grid_row": null,
            "grid_template_areas": null,
            "grid_template_columns": null,
            "grid_template_rows": null,
            "height": null,
            "justify_content": null,
            "justify_items": null,
            "left": null,
            "margin": null,
            "max_height": null,
            "max_width": null,
            "min_height": null,
            "min_width": null,
            "object_fit": null,
            "object_position": null,
            "order": null,
            "overflow": null,
            "overflow_x": null,
            "overflow_y": null,
            "padding": null,
            "right": null,
            "top": null,
            "visibility": null,
            "width": null
          }
        },
        "5810e2b2a9a5466da917a8ed8c3ba8d6": {
          "model_module": "@jupyter-widgets/controls",
          "model_name": "DescriptionStyleModel",
          "model_module_version": "1.5.0",
          "state": {
            "_model_module": "@jupyter-widgets/controls",
            "_model_module_version": "1.5.0",
            "_model_name": "DescriptionStyleModel",
            "_view_count": null,
            "_view_module": "@jupyter-widgets/base",
            "_view_module_version": "1.2.0",
            "_view_name": "StyleView",
            "description_width": ""
          }
        },
        "858e85befd3641d2a696bef767bf5da6": {
          "model_module": "@jupyter-widgets/base",
          "model_name": "LayoutModel",
          "model_module_version": "1.2.0",
          "state": {
            "_model_module": "@jupyter-widgets/base",
            "_model_module_version": "1.2.0",
            "_model_name": "LayoutModel",
            "_view_count": null,
            "_view_module": "@jupyter-widgets/base",
            "_view_module_version": "1.2.0",
            "_view_name": "LayoutView",
            "align_content": null,
            "align_items": null,
            "align_self": null,
            "border": null,
            "bottom": null,
            "display": null,
            "flex": null,
            "flex_flow": null,
            "grid_area": null,
            "grid_auto_columns": null,
            "grid_auto_flow": null,
            "grid_auto_rows": null,
            "grid_column": null,
            "grid_gap": null,
            "grid_row": null,
            "grid_template_areas": null,
            "grid_template_columns": null,
            "grid_template_rows": null,
            "height": null,
            "justify_content": null,
            "justify_items": null,
            "left": null,
            "margin": null,
            "max_height": null,
            "max_width": null,
            "min_height": null,
            "min_width": null,
            "object_fit": null,
            "object_position": null,
            "order": null,
            "overflow": null,
            "overflow_x": null,
            "overflow_y": null,
            "padding": null,
            "right": null,
            "top": null,
            "visibility": null,
            "width": null
          }
        },
        "6fd55caff95748cead03ef76ea6fc73f": {
          "model_module": "@jupyter-widgets/controls",
          "model_name": "ProgressStyleModel",
          "model_module_version": "1.5.0",
          "state": {
            "_model_module": "@jupyter-widgets/controls",
            "_model_module_version": "1.5.0",
            "_model_name": "ProgressStyleModel",
            "_view_count": null,
            "_view_module": "@jupyter-widgets/base",
            "_view_module_version": "1.2.0",
            "_view_name": "StyleView",
            "bar_color": null,
            "description_width": ""
          }
        },
        "b8685988411042249374507d444da96a": {
          "model_module": "@jupyter-widgets/base",
          "model_name": "LayoutModel",
          "model_module_version": "1.2.0",
          "state": {
            "_model_module": "@jupyter-widgets/base",
            "_model_module_version": "1.2.0",
            "_model_name": "LayoutModel",
            "_view_count": null,
            "_view_module": "@jupyter-widgets/base",
            "_view_module_version": "1.2.0",
            "_view_name": "LayoutView",
            "align_content": null,
            "align_items": null,
            "align_self": null,
            "border": null,
            "bottom": null,
            "display": null,
            "flex": null,
            "flex_flow": null,
            "grid_area": null,
            "grid_auto_columns": null,
            "grid_auto_flow": null,
            "grid_auto_rows": null,
            "grid_column": null,
            "grid_gap": null,
            "grid_row": null,
            "grid_template_areas": null,
            "grid_template_columns": null,
            "grid_template_rows": null,
            "height": null,
            "justify_content": null,
            "justify_items": null,
            "left": null,
            "margin": null,
            "max_height": null,
            "max_width": null,
            "min_height": null,
            "min_width": null,
            "object_fit": null,
            "object_position": null,
            "order": null,
            "overflow": null,
            "overflow_x": null,
            "overflow_y": null,
            "padding": null,
            "right": null,
            "top": null,
            "visibility": null,
            "width": null
          }
        },
        "e57f0095abc049e4b7f3053abd28eb07": {
          "model_module": "@jupyter-widgets/controls",
          "model_name": "DescriptionStyleModel",
          "model_module_version": "1.5.0",
          "state": {
            "_model_module": "@jupyter-widgets/controls",
            "_model_module_version": "1.5.0",
            "_model_name": "DescriptionStyleModel",
            "_view_count": null,
            "_view_module": "@jupyter-widgets/base",
            "_view_module_version": "1.2.0",
            "_view_name": "StyleView",
            "description_width": ""
          }
        }
      }
    }
  },
  "cells": [
    {
      "cell_type": "markdown",
      "source": [
        "# Predicting Shape of Linear Elastic Bar\n",
        "Linear Elastic Bar Obeys:\n",
        "$$\\frac{d}{dx}\\left(EA\\frac{du}{dx}\\right)+p=0$$\n",
        "\n",
        "We solve this for the case where:\n",
        "$$p(x)=4\\pi^2\\sin(2\\pi x)$$\n",
        "And $u(0)=u(1)=0$\n",
        "\n",
        "We compare this to the analytic solution:\n",
        "$$u(x)=\\sin(2\\pi x)$$\n",
        "\n"
      ],
      "metadata": {
        "id": "gwpzypiLVmws"
      }
    },
    {
      "cell_type": "code",
      "execution_count": 1,
      "metadata": {
        "id": "u56vCaxgBsz4"
      },
      "outputs": [],
      "source": [
        "import torch\n",
        "import math\n",
        "import matplotlib.pyplot as plt\n",
        "import numpy as np\n",
        "torch.manual_seed(42)\n",
        "device = \"cuda\" if torch.cuda.is_available() else \"cpu\""
      ]
    },
    {
      "cell_type": "code",
      "source": [
        "from timeit import default_timer as timer\n",
        "from tqdm.auto import tqdm\n",
        "\n",
        "def print_train_time(start: float, end: float, device: torch.device = None):\n",
        "  total_time = end - start\n",
        "  print(f\"Train time on {device}: {total_time:.3f} seconds\")\n",
        "  return total_time"
      ],
      "metadata": {
        "id": "jJ8VUVUOGnLi"
      },
      "execution_count": 2,
      "outputs": []
    },
    {
      "cell_type": "code",
      "source": [
        "# The code in this block is taken from Deep Learning in Computational Mechanics, S. Kollmannsberger et al. 2021\n",
        "\n",
        "def buildModel(input_dim, hidden_dim, output_dim):\n",
        "  model = torch.nn.Sequential(torch.nn.Linear(input_dim, hidden_dim), torch.nn.Tanh(), torch.nn.Linear(hidden_dim, output_dim))\n",
        "  return model\n",
        "\n",
        "def get_derivative(y,x):\n",
        "  dydx = torch.autograd.grad(y, x, torch.ones(x.size()[0], 1), create_graph=True, retain_graph=True)[0]\n",
        "  return dydx\n",
        "\n",
        "def f(model, x, EA, p):\n",
        "  u = model(x)\n",
        "  u_x = get_derivative(u, x)\n",
        "  EAu_xx = get_derivative(EA(x) * u_x, x)\n",
        "  f = EAu_xx + p(x)\n",
        "  return f"
      ],
      "metadata": {
        "id": "7K5PJ02EB6Rb"
      },
      "execution_count": 3,
      "outputs": []
    },
    {
      "cell_type": "markdown",
      "source": [
        "# Training\n",
        "I tried with SQD, Adam and L-BFGS Optimizers and found, at best, that they converged after 2000, 500 and 30 epochs, respectively."
      ],
      "metadata": {
        "id": "Gjoe0oLRn9vE"
      }
    },
    {
      "cell_type": "code",
      "source": [
        "model = buildModel(1, 10, 1)\n",
        "model.to(device)\n",
        "x = torch.linspace(0, 1, 10, requires_grad=True).view(-1, 1)\n",
        "EA = lambda x: 1 + 0 * x\n",
        "p = lambda x: 4 * math.pi**2 * torch.sin(2 * math.pi * x)\n",
        "\n",
        "train_time_start_on_gpu = timer()\n",
        "epochs = 40\n",
        "optimizer = torch.optim.LBFGS(params=model.parameters(), lr=0.1)\n",
        "\n",
        "model.to(device)\n",
        "f_conv = np.zeros(epochs)\n",
        "b_conv = np.zeros(epochs)\n",
        "\n",
        "def closure():\n",
        "  # Compute u, f\n",
        "    u_pred = model(x)\n",
        "    f_pred = f(model, x, EA, p)\n",
        "    #print(f\"u_pred = {u_pred}\")\n",
        "    #print(f\"f_pred = {f_pred}\")\n",
        "    # Boundary conditions\n",
        "    u0 = 0\n",
        "    u1 = 0\n",
        "    u0_pred = model(torch.tensor([0.]))\n",
        "    u1_pred = model(torch.tensor([1.]))\n",
        "    # Compute loss\n",
        "    MSE_f = torch.sum(f_pred**2)\n",
        "    MSE_b = (u0_pred - u0)**2 + (u1_pred - u1)**2\n",
        "    loss = MSE_f + 50*MSE_b\n",
        "    #train_loss[epoch] = loss.item()\n",
        "    f_conv[epoch] = MSE_f.item()\n",
        "    #b_conv[epoch] = MSE_b.item()\n",
        "    optimizer.zero_grad()\n",
        "    loss.backward()\n",
        "    return loss\n",
        "\n",
        "model.train()\n",
        "for epoch in tqdm(range(epochs)):\n",
        "  optimizer.step(closure)\n",
        "  #print(f\"MSE_f: {MSE_f}, MSE_b: {MSE_b}\")\n",
        "  #print(f\"Loss: {loss[0]}\")\n",
        "#print(train_loss)\n",
        "train_time_end_on_gpu = timer()\n",
        "total_train_time = print_train_time(start=train_time_start_on_gpu, end=train_time_end_on_gpu, device=device)\n",
        "plt.plot(np.arange(0,epochs),f_conv)\n",
        "plt.ylim(0,1)\n",
        "plt.title(\"Learning Curve for f\")\n",
        "plt.ylabel(r\"$\\text{MSE}_f$\")\n",
        "plt.xlabel(\"epochs\")"
      ],
      "metadata": {
        "colab": {
          "base_uri": "https://localhost:8080/",
          "height": 540,
          "referenced_widgets": [
            "aae3b1a0f1274fd6ae236eee33e48e48",
            "a2ced7d7d69b4b2fb88fbce1f8df2f5d",
            "91b98797027b453f8a071adf0c744934",
            "69ae11e14e274496ae8a6aef3864d0cf",
            "0a6b1d5613884de49079dc090e4cec5f",
            "5d6ab6bd30844ebfaaf700ae41047fa4",
            "5810e2b2a9a5466da917a8ed8c3ba8d6",
            "858e85befd3641d2a696bef767bf5da6",
            "6fd55caff95748cead03ef76ea6fc73f",
            "b8685988411042249374507d444da96a",
            "e57f0095abc049e4b7f3053abd28eb07"
          ]
        },
        "id": "e1AuWpvxlY0H",
        "outputId": "72606b04-faff-40e4-99b7-d2792a4c29d4"
      },
      "execution_count": 4,
      "outputs": [
        {
          "output_type": "display_data",
          "data": {
            "text/plain": [
              "  0%|          | 0/40 [00:00<?, ?it/s]"
            ],
            "application/vnd.jupyter.widget-view+json": {
              "version_major": 2,
              "version_minor": 0,
              "model_id": "aae3b1a0f1274fd6ae236eee33e48e48"
            }
          },
          "metadata": {}
        },
        {
          "output_type": "stream",
          "name": "stdout",
          "text": [
            "Train time on cpu: 17.041 seconds\n"
          ]
        },
        {
          "output_type": "execute_result",
          "data": {
            "text/plain": [
              "Text(0.5, 0, 'epochs')"
            ]
          },
          "metadata": {},
          "execution_count": 4
        },
        {
          "output_type": "display_data",
          "data": {
            "text/plain": [
              "<Figure size 640x480 with 1 Axes>"
            ],
            "image/png": "[encoded data removed]"
          },
          "metadata": {}
        }
      ]
    },
    {
      "cell_type": "code",
      "source": [
        "def true_func(x): return torch.sin(2*torch.pi*x)\n",
        "\n",
        "plt.plot(x.detach().numpy(),true_func(x).detach().numpy(), label=\"Analytic\",linestyle='dashed',c='orange')\n",
        "plt.plot(x.detach().numpy(), model(x).detach().numpy(), label=\"Predicted\",linestyle='dotted',c='black',alpha=0.7)\n",
        "plt.legend()\n",
        "plt.title(r\"$u_{\\text{pred}}(x)$ and $u_{\\text{analytic}}(x)$\")\n",
        "plt.xlabel('x')\n",
        "plt.ylabel('u')"
      ],
      "metadata": {
        "colab": {
          "base_uri": "https://localhost:8080/",
          "height": 492
        },
        "id": "mfUcEbxCIHvf",
        "outputId": "48f3cc48-f358-450a-826d-546cf0669758"
      },
      "execution_count": 5,
      "outputs": [
        {
          "output_type": "execute_result",
          "data": {
            "text/plain": [
              "Text(0, 0.5, 'u')"
            ]
          },
          "metadata": {},
          "execution_count": 5
        },
        {
          "output_type": "display_data",
          "data": {
            "text/plain": [
              "<Figure size 640x480 with 1 Axes>"
            ],
            "image/png": "[encoded data removed]"
          },
          "metadata": {}
        }
      ]
    },
    {
      "cell_type": "code",
      "source": [],
      "metadata": {
        "id": "2QCd5LzBXkli"
      },
      "execution_count": 5,
      "outputs": []
    }
  ]
}